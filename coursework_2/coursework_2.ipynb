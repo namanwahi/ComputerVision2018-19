{
 "cells": [
  {
   "cell_type": "markdown",
   "metadata": {},
   "source": [
    "# Coursework 2: Neural Networks \n",
    "\n",
    "This coursework covers the topics covered in class regarding neural networks for image classification.\n",
    "\n",
    "This coursework includes both coding questions as well as written ones. Please upload the notebook, which contains your code, results and answers as a pdf file onto Cate.\n",
    "\n",
    "Dependencies: If you work on a college computer in the Computing Lab, where Ubuntu 18.04 is installed by default, you can use the following virtual environment for your work, where relevant Python packages are already installed.\n",
    "\n",
    "`source /vol/bitbucket/wbai/virt/computer_vision_ubuntu18.04/bin/activate`\n",
    "\n",
    "Alternatively, you can use pip, pip3 or anaconda etc to install Python packages.\n",
    "\n",
    "**Note 1:** please read the both the text and code comment in this notebook to get an idea what you are supposed to implement.\n",
    "\n",
    "**Note 2:** If you are using the virtual environment in the Computing Lab, please run the following command in the command line before opening jupyter-notebook and importing tensorflow. This will tell tensorflow where the Nvidia CUDA libariries are.\n",
    "\n",
    "`export LD_LIBRARY_PATH=/vol/cuda/9.0.176/lib64/:\"${LD_LIBRARY_PATH}}\"` "
   ]
  },
  {
   "cell_type": "code",
   "execution_count": 1,
   "metadata": {},
   "outputs": [],
   "source": [
    "# Import libraries\n",
    "import numpy as np \n",
    "import matplotlib.pyplot as plt\n",
    "%matplotlib inline\n",
    "import tensorflow as tf \n",
    "from tensorflow import keras\n",
    "from tensorflow.keras.models import Sequential\n",
    "from tensorflow.keras.layers import Dense, Dropout\n",
    "from tensorflow.keras import losses \n",
    "import itertools\n",
    "import cv2\n",
    "\n",
    "# constants\n",
    "NUM_CLASSES = 10\n",
    "classes = [\n",
    "    \"T-shirt/top\",\n",
    "    \"Trousers\",\n",
    "    \"Pullover\",\n",
    "    \"Dress\",\n",
    "    \"Coat\",\n",
    "    \"Sandal\",\n",
    "    \"Shirt\",\n",
    "    \"Sneaker\",\n",
    "    \"Bag\",\n",
    "    \"Ankle boot\"\n",
    "]\n",
    "\n",
    "SIDE_LENGTH = 28\n"
   ]
  },
  {
   "cell_type": "markdown",
   "metadata": {},
   "source": [
    "## Question 1 (20 points)\n",
    "\n",
    "Throughout this coursework you will be working with the Fashion-MNIST dataset. If you are interested, you may find relevant information regarding the dataset in this paper.\n",
    "\n",
    "[1] Fashion-MNIST: A novel image dataset for benchmarking machine learning algorithms. Han Xiao, Kashif Rasul, Roland Vollgraf. [arXiv:1708.07747](https://arxiv.org/abs/1708.07747)\n",
    "\n",
    "Be sure that you have the following files in your working directory: data.tar.gz and reader.py. Loading the data can be done as follows:\n",
    "\n",
    "`from reader import get_images\n",
    "(x_train, y_train), (x_test, y_test) = get_images()`\n",
    "\n",
    "The dataset is already split into a set of 60,000 training images and a set of 10,000 test images. The images are of size 28x28 pixels and stored as 784-D vector. So if you would like to visualise the images, you need to reshape the array.\n",
    "\n",
    "There are in total 10 label classes, which are:\n",
    "* 0: T-shirt/top\n",
    "* 1: Trousers\n",
    "* 2: Pullover\n",
    "* 3: Dress\n",
    "* 4: Coat\n",
    "* 5: Sandal\n",
    "* 6: Shirt\n",
    "* 7: Sneaker\n",
    "* 8: Bag\n",
    "* 9: Ankle boot"
   ]
  },
  {
   "cell_type": "markdown",
   "metadata": {},
   "source": [
    "### 1.1 Load data (6 points)\n",
    "Load the dataset and print the dimensions of the training set and the test set."
   ]
  },
  {
   "cell_type": "code",
   "execution_count": 2,
   "metadata": {
    "scrolled": true
   },
   "outputs": [
    {
     "name": "stdout",
     "output_type": "stream",
     "text": [
      "Training Set Dimensions:\n",
      "Training set data dimensions: (60000, 784)\n",
      "Training set labels dimensions: (60000,)\n",
      "-------------------------------------------------------\n",
      "Test Set Dimensions:\n",
      "Test set data dimensions: (10000, 784)\n",
      "Test set labels dimensions: (10000,)\n"
     ]
    }
   ],
   "source": [
    "from reader import get_images\n",
    "(x_train, y_train), (x_test, y_test) = get_images()\n",
    "print(\"Training Set Dimensions:\")\n",
    "print(\"Training set data dimensions: %s\" % str(x_train.shape))\n",
    "print(\"Training set labels dimensions: %s\" % str(y_train.shape))\n",
    "print(\"-------------------------------------------------------\")\n",
    "print(\"Test Set Dimensions:\")\n",
    "print(\"Test set data dimensions: %s\" % str(x_test.shape))\n",
    "print(\"Test set labels dimensions: %s\" % str(y_test.shape))"
   ]
  },
  {
   "cell_type": "markdown",
   "metadata": {},
   "source": [
    "### 1.2 Visualize data (6 points)\n",
    "Visualise 3 training images (T-shirt, trousers and pullover) and 3 test images (dress, coat and sandal).\n",
    "#### Training images"
   ]
  },
  {
   "cell_type": "code",
   "execution_count": 3,
   "metadata": {},
   "outputs": [
    {
     "data": {
      "text/plain": [
       "<matplotlib.image.AxesImage at 0x7f378e0bf550>"
      ]
     },
     "execution_count": 3,
     "metadata": {},
     "output_type": "execute_result"
    },
    {
     "data": {
      "image/png": "[encoded data removed]",
      "text/plain": [
       "<Figure size 432x288 with 1 Axes>"
      ]
     },
     "metadata": {
      "needs_background": "light"
     },
     "output_type": "display_data"
    }
   ],
   "source": [
    "plt.imshow(x_train[1].reshape((SIDE_LENGTH, SIDE_LENGTH)))"
   ]
  },
  {
   "cell_type": "code",
   "execution_count": 4,
   "metadata": {},
   "outputs": [
    {
     "data": {
      "text/plain": [
       "<matplotlib.image.AxesImage at 0x7f378e4957f0>"
      ]
     },
     "execution_count": 4,
     "metadata": {},
     "output_type": "execute_result"
    },
    {
     "data": {
      "image/png": "[encoded data removed]",
      "text/plain": [
       "<Figure size 432x288 with 1 Axes>"
      ]
     },
     "metadata": {
      "needs_background": "light"
     },
     "output_type": "display_data"
    }
   ],
   "source": [
    "plt.imshow(x_train[16].reshape((SIDE_LENGTH, SIDE_LENGTH)))"
   ]
  },
  {
   "cell_type": "code",
   "execution_count": 5,
   "metadata": {},
   "outputs": [
    {
     "data": {
      "text/plain": [
       "<matplotlib.image.AxesImage at 0x7f378e452978>"
      ]
     },
     "execution_count": 5,
     "metadata": {},
     "output_type": "execute_result"
    },
    {
     "data": {
      "image/png": "[encoded data removed]",
      "text/plain": [
       "<Figure size 432x288 with 1 Axes>"
      ]
     },
     "metadata": {
      "needs_background": "light"
     },
     "output_type": "display_data"
    }
   ],
   "source": [
    "plt.imshow(x_train[5].reshape((SIDE_LENGTH, SIDE_LENGTH)))"
   ]
  },
  {
   "cell_type": "markdown",
   "metadata": {},
   "source": [
    "#### Test images"
   ]
  },
  {
   "cell_type": "code",
   "execution_count": 6,
   "metadata": {},
   "outputs": [
    {
     "data": {
      "text/plain": [
       "<matplotlib.image.AxesImage at 0x7f378e36ea58>"
      ]
     },
     "execution_count": 6,
     "metadata": {},
     "output_type": "execute_result"
    },
    {
     "data": {
      "image/png": "[encoded data removed]",
      "text/plain": [
       "<Figure size 432x288 with 1 Axes>"
      ]
     },
     "metadata": {
      "needs_background": "light"
     },
     "output_type": "display_data"
    }
   ],
   "source": [
    "plt.imshow(x_test[13].reshape((SIDE_LENGTH, SIDE_LENGTH)))"
   ]
  },
  {
   "cell_type": "code",
   "execution_count": 7,
   "metadata": {},
   "outputs": [
    {
     "data": {
      "text/plain": [
       "<matplotlib.image.AxesImage at 0x7f378e34d6d8>"
      ]
     },
     "execution_count": 7,
     "metadata": {},
     "output_type": "execute_result"
    },
    {
     "data": {
      "image/png": "[encoded data removed]",
      "text/plain": [
       "<Figure size 432x288 with 1 Axes>"
      ]
     },
     "metadata": {
      "needs_background": "light"
     },
     "output_type": "display_data"
    }
   ],
   "source": [
    "plt.imshow(x_test[6].reshape((SIDE_LENGTH, SIDE_LENGTH)))"
   ]
  },
  {
   "cell_type": "code",
   "execution_count": 8,
   "metadata": {},
   "outputs": [
    {
     "data": {
      "text/plain": [
       "<matplotlib.image.AxesImage at 0x7f378e32b550>"
      ]
     },
     "execution_count": 8,
     "metadata": {},
     "output_type": "execute_result"
    },
    {
     "data": {
      "image/png": "[encoded data removed]",
      "text/plain": [
       "<Figure size 432x288 with 1 Axes>"
      ]
     },
     "metadata": {
      "needs_background": "light"
     },
     "output_type": "display_data"
    }
   ],
   "source": [
    "plt.imshow(x_test[8].reshape((SIDE_LENGTH, SIDE_LENGTH)))"
   ]
  },
  {
   "cell_type": "markdown",
   "metadata": {},
   "source": [
    "### 1.3 Data balance (4 points)\n",
    "Print out the number of training samples for each class."
   ]
  },
  {
   "cell_type": "code",
   "execution_count": 9,
   "metadata": {},
   "outputs": [
    {
     "name": "stdout",
     "output_type": "stream",
     "text": [
      "Class Frequency\n",
      " 0     6000\n",
      " 1     6000\n",
      " 2     6000\n",
      " 3     6000\n",
      " 4     6000\n",
      " 5     6000\n",
      " 6     6000\n",
      " 7     6000\n",
      " 8     6000\n",
      " 9     6000\n"
     ]
    }
   ],
   "source": [
    "frequency_table = [0] * NUM_CLASSES\n",
    "for label in y_train:\n",
    "    frequency_table[label] += 1\n",
    "\n",
    "print(\"Class Frequency\")\n",
    "for v, i in enumerate(frequency_table):\n",
    "    print(\" %d     %d\" % (v, i))"
   ]
  },
  {
   "cell_type": "markdown",
   "metadata": {},
   "source": [
    "### 1.4 Discussion (4 points)\n",
    "Is the dataset balanced? What would happen if the dataset is not balanced in the context of image classification? \n",
    "\n",
    "The dataset is balanced because there are the same number of images of each class. If the dataset is not balanced there may be a bias towards some classes. If this bias is not corrected by methods such as oversampling and undersampling, the trained model may give higher probabilities to the classes with more training images resulting in a decrease in overall accuracy."
   ]
  },
  {
   "cell_type": "markdown",
   "metadata": {},
   "source": [
    "## Question 2 (40 points)\n",
    "\n",
    "Build a neural network and train it with the Fashion-MNIST dataset. Here, we use the keras library, which is a high-level neural network library built upon tensorflow."
   ]
  },
  {
   "cell_type": "code",
   "execution_count": 10,
   "metadata": {},
   "outputs": [],
   "source": [
    "# Convert the label class into a one-hot representation\n",
    "y_train = keras.utils.to_categorical(y_train, NUM_CLASSES)\n",
    "y_test = keras.utils.to_categorical(y_test, NUM_CLASSES)\n",
    "\n",
    "def preprocess_image(img):\n",
    "    \"\"\"\n",
    "        Normalises the pixel values of the image to the range [0,1]\n",
    "    \"\"\"\n",
    "    max_pixel_value = 255.0\n",
    "    return img / max_pixel_value\n",
    "\n",
    "x_train = preprocess_image(x_train)\n",
    "x_test = preprocess_image(x_test)\n",
    "\n"
   ]
  },
  {
   "cell_type": "markdown",
   "metadata": {},
   "source": [
    "### 2.1 Build a multi-layer perceptron, also known as multi-layer fully connected network. You need to define the layers, the loss function, the optimiser and evaluation metric. (30 points)"
   ]
  },
  {
   "cell_type": "code",
   "execution_count": 11,
   "metadata": {},
   "outputs": [
    {
     "name": "stdout",
     "output_type": "stream",
     "text": [
      "_________________________________________________________________\n",
      "Layer (type)                 Output Shape              Param #   \n",
      "=================================================================\n",
      "dense (Dense)                (None, 1000)              785000    \n",
      "_________________________________________________________________\n",
      "dropout (Dropout)            (None, 1000)              0         \n",
      "_________________________________________________________________\n",
      "dense_1 (Dense)              (None, 10)                10010     \n",
      "=================================================================\n",
      "Total params: 795,010\n",
      "Trainable params: 795,010\n",
      "Non-trainable params: 0\n",
      "_________________________________________________________________\n",
      "None\n"
     ]
    }
   ],
   "source": [
    "model = keras.models.Sequential([\n",
    "  tf.keras.layers.Dense(1000, activation=tf.nn.relu, input_dim=SIDE_LENGTH * SIDE_LENGTH),\n",
    "  tf.keras.layers.Dropout(0.5),\n",
    "  tf.keras.layers.Dense(10, activation=tf.nn.softmax)\n",
    "])\n",
    "\n",
    "model.compile(loss=\"categorical_crossentropy\", optimizer=\"adam\", metrics=[\"accuracy\"])\n",
    "print(model.summary())"
   ]
  },
  {
   "cell_type": "markdown",
   "metadata": {},
   "source": [
    "### 2.2 Define the optimisation parameters including the batch size and the number of epochs and then run the optimiser. (10 points)\n",
    "\n",
    "We have tested that for an appropriate network architecture, on a personal laptop and with only CPU, it takes about a few seconds per epoch to train the network. For 100 epochs, it takes about a coffee break's time to finish the training. If you run it on a powerful GPU, it would be even much faster."
   ]
  },
  {
   "cell_type": "code",
   "execution_count": 12,
   "metadata": {},
   "outputs": [
    {
     "name": "stdout",
     "output_type": "stream",
     "text": [
      "Epoch 1/200\n",
      "60000/60000 [==============================] - 2s 41us/step - loss: 0.7239 - acc: 0.7469\n",
      "Epoch 2/200\n",
      "60000/60000 [==============================] - 2s 35us/step - loss: 0.4603 - acc: 0.8404\n",
      "Epoch 3/200\n",
      "60000/60000 [==============================] - 2s 34us/step - loss: 0.4165 - acc: 0.8536\n",
      "Epoch 4/200\n",
      "60000/60000 [==============================] - 2s 33us/step - loss: 0.3869 - acc: 0.8626\n",
      "Epoch 5/200\n",
      "60000/60000 [==============================] - 2s 34us/step - loss: 0.3641 - acc: 0.8698\n",
      "Epoch 6/200\n",
      "60000/60000 [==============================] - 2s 36us/step - loss: 0.3490 - acc: 0.8752\n",
      "Epoch 7/200\n",
      "60000/60000 [==============================] - 2s 33us/step - loss: 0.3378 - acc: 0.8781\n",
      "Epoch 8/200\n",
      "60000/60000 [==============================] - 2s 34us/step - loss: 0.3234 - acc: 0.8834\n",
      "Epoch 9/200\n",
      "60000/60000 [==============================] - 2s 34us/step - loss: 0.3173 - acc: 0.8853\n",
      "Epoch 10/200\n",
      "60000/60000 [==============================] - 2s 33us/step - loss: 0.3072 - acc: 0.8894\n",
      "Epoch 11/200\n",
      "60000/60000 [==============================] - 2s 34us/step - loss: 0.3022 - acc: 0.8902\n",
      "Epoch 12/200\n",
      "60000/60000 [==============================] - 2s 34us/step - loss: 0.2952 - acc: 0.8913\n",
      "Epoch 13/200\n",
      "60000/60000 [==============================] - 2s 33us/step - loss: 0.2888 - acc: 0.8941\n",
      "Epoch 14/200\n",
      "60000/60000 [==============================] - 2s 33us/step - loss: 0.2849 - acc: 0.8961: 0s - loss: 0.2831\n",
      "Epoch 15/200\n",
      "60000/60000 [==============================] - 2s 34us/step - loss: 0.2789 - acc: 0.8973: 1s - loss: 0.2784  - ETA: 0s - loss: 0.2794 - acc: \n",
      "Epoch 16/200\n",
      "60000/60000 [==============================] - 2s 34us/step - loss: 0.2745 - acc: 0.8989\n",
      "Epoch 17/200\n",
      "60000/60000 [==============================] - 2s 33us/step - loss: 0.2731 - acc: 0.8993: 0s - loss: 0.2738 - \n",
      "Epoch 18/200\n",
      "60000/60000 [==============================] - 2s 33us/step - loss: 0.2675 - acc: 0.9013\n",
      "Epoch 19/200\n",
      "60000/60000 [==============================] - 2s 35us/step - loss: 0.2611 - acc: 0.9040\n",
      "Epoch 20/200\n",
      "60000/60000 [==============================] - 2s 35us/step - loss: 0.2576 - acc: 0.9055\n",
      "Epoch 21/200\n",
      "60000/60000 [==============================] - 2s 35us/step - loss: 0.2535 - acc: 0.9057\n",
      "Epoch 22/200\n",
      "60000/60000 [==============================] - 2s 34us/step - loss: 0.2506 - acc: 0.9071\n",
      "Epoch 23/200\n",
      "60000/60000 [==============================] - 2s 34us/step - loss: 0.2465 - acc: 0.9090\n",
      "Epoch 24/200\n",
      "60000/60000 [==============================] - 2s 34us/step - loss: 0.2437 - acc: 0.9098: 1s - loss: 0.2\n",
      "Epoch 25/200\n",
      "60000/60000 [==============================] - 2s 34us/step - loss: 0.2412 - acc: 0.9102\n",
      "Epoch 26/200\n",
      "60000/60000 [==============================] - 2s 34us/step - loss: 0.2371 - acc: 0.9133\n",
      "Epoch 27/200\n",
      "60000/60000 [==============================] - 2s 34us/step - loss: 0.2347 - acc: 0.9122\n",
      "Epoch 28/200\n",
      "60000/60000 [==============================] - 2s 33us/step - loss: 0.2307 - acc: 0.9146: 0s - loss: 0.2247 - ac - ETA: 0s - loss: 0.2294 - acc: 0.\n",
      "Epoch 29/200\n",
      "60000/60000 [==============================] - 2s 33us/step - loss: 0.2291 - acc: 0.9160\n",
      "Epoch 30/200\n",
      "60000/60000 [==============================] - 2s 33us/step - loss: 0.2237 - acc: 0.9170\n",
      "Epoch 31/200\n",
      "60000/60000 [==============================] - 2s 33us/step - loss: 0.2228 - acc: 0.9171\n",
      "Epoch 32/200\n",
      "60000/60000 [==============================] - 2s 33us/step - loss: 0.2210 - acc: 0.9181\n",
      "Epoch 33/200\n",
      "60000/60000 [==============================] - 2s 33us/step - loss: 0.2200 - acc: 0.9179\n",
      "Epoch 34/200\n",
      "60000/60000 [==============================] - 2s 33us/step - loss: 0.2134 - acc: 0.9202\n",
      "Epoch 35/200\n",
      "60000/60000 [==============================] - 2s 33us/step - loss: 0.2101 - acc: 0.9216\n",
      "Epoch 36/200\n",
      "60000/60000 [==============================] - 2s 33us/step - loss: 0.2099 - acc: 0.9215\n",
      "Epoch 37/200\n",
      "60000/60000 [==============================] - 2s 33us/step - loss: 0.2077 - acc: 0.9230\n",
      "Epoch 38/200\n",
      "60000/60000 [==============================] - 2s 34us/step - loss: 0.2067 - acc: 0.9221\n",
      "Epoch 39/200\n",
      "60000/60000 [==============================] - 2s 33us/step - loss: 0.2015 - acc: 0.9249\n",
      "Epoch 40/200\n",
      "60000/60000 [==============================] - 2s 34us/step - loss: 0.2008 - acc: 0.9244: 1s - loss: \n",
      "Epoch 41/200\n",
      "60000/60000 [==============================] - 2s 35us/step - loss: 0.1992 - acc: 0.9257\n",
      "Epoch 42/200\n",
      "60000/60000 [==============================] - 2s 33us/step - loss: 0.1952 - acc: 0.9263\n",
      "Epoch 43/200\n",
      "60000/60000 [==============================] - 2s 34us/step - loss: 0.1928 - acc: 0.9289\n",
      "Epoch 44/200\n",
      "60000/60000 [==============================] - 2s 34us/step - loss: 0.1938 - acc: 0.9270\n",
      "Epoch 45/200\n",
      "60000/60000 [==============================] - 2s 35us/step - loss: 0.1919 - acc: 0.9282\n",
      "Epoch 46/200\n",
      "60000/60000 [==============================] - 2s 33us/step - loss: 0.1884 - acc: 0.9288\n",
      "Epoch 47/200\n",
      "60000/60000 [==============================] - 2s 34us/step - loss: 0.1869 - acc: 0.9304\n",
      "Epoch 48/200\n",
      "60000/60000 [==============================] - 2s 33us/step - loss: 0.1852 - acc: 0.9315\n",
      "Epoch 49/200\n",
      "60000/60000 [==============================] - 2s 34us/step - loss: 0.1835 - acc: 0.9313\n",
      "Epoch 50/200\n",
      "60000/60000 [==============================] - 2s 33us/step - loss: 0.1819 - acc: 0.9311\n",
      "Epoch 51/200\n",
      "60000/60000 [==============================] - 2s 35us/step - loss: 0.1830 - acc: 0.9315: 1s - loss: \n",
      "Epoch 52/200\n",
      "60000/60000 [==============================] - 2s 34us/step - loss: 0.1769 - acc: 0.9341\n",
      "Epoch 53/200\n",
      "60000/60000 [==============================] - 2s 34us/step - loss: 0.1760 - acc: 0.9355\n",
      "Epoch 54/200\n",
      "60000/60000 [==============================] - 2s 34us/step - loss: 0.1738 - acc: 0.9355\n",
      "Epoch 55/200\n",
      "60000/60000 [==============================] - 2s 35us/step - loss: 0.1755 - acc: 0.9341: 1s - loss: 0.1732 - acc: 0.935 - ETA: 1s - loss: 0\n",
      "Epoch 56/200\n",
      "60000/60000 [==============================] - 2s 34us/step - loss: 0.1743 - acc: 0.9352\n",
      "Epoch 57/200\n",
      "60000/60000 [==============================] - 2s 35us/step - loss: 0.1696 - acc: 0.9367\n",
      "Epoch 58/200\n",
      "60000/60000 [==============================] - 2s 35us/step - loss: 0.1669 - acc: 0.9372: 1s - loss: 0.168\n",
      "Epoch 59/200\n",
      "60000/60000 [==============================] - 2s 34us/step - loss: 0.1669 - acc: 0.9380\n",
      "Epoch 60/200\n",
      "60000/60000 [==============================] - 2s 34us/step - loss: 0.1650 - acc: 0.9386\n",
      "Epoch 61/200\n",
      "60000/60000 [==============================] - 2s 36us/step - loss: 0.1656 - acc: 0.9382\n",
      "Epoch 62/200\n",
      "60000/60000 [==============================] - 2s 34us/step - loss: 0.1633 - acc: 0.9385\n",
      "Epoch 63/200\n",
      "60000/60000 [==============================] - 2s 34us/step - loss: 0.1622 - acc: 0.9383\n",
      "Epoch 64/200\n",
      "60000/60000 [==============================] - 2s 34us/step - loss: 0.1597 - acc: 0.9406: 0s - loss: 0.1590\n",
      "Epoch 65/200\n",
      "60000/60000 [==============================] - 2s 33us/step - loss: 0.1587 - acc: 0.9409\n",
      "Epoch 66/200\n",
      "60000/60000 [==============================] - 2s 34us/step - loss: 0.1575 - acc: 0.9405: 0s - loss: 0.1570 - a\n",
      "Epoch 67/200\n",
      "60000/60000 [==============================] - 2s 34us/step - loss: 0.1566 - acc: 0.9409\n",
      "Epoch 68/200\n",
      "60000/60000 [==============================] - 2s 34us/step - loss: 0.1569 - acc: 0.9414\n",
      "Epoch 69/200\n",
      "60000/60000 [==============================] - 2s 35us/step - loss: 0.1535 - acc: 0.9422\n",
      "Epoch 70/200\n",
      "60000/60000 [==============================] - 2s 34us/step - loss: 0.1523 - acc: 0.9431\n",
      "Epoch 71/200\n",
      "60000/60000 [==============================] - 2s 33us/step - loss: 0.1513 - acc: 0.9427\n",
      "Epoch 72/200\n",
      "60000/60000 [==============================] - 2s 33us/step - loss: 0.1511 - acc: 0.9431\n",
      "Epoch 73/200\n",
      "60000/60000 [==============================] - 2s 33us/step - loss: 0.1519 - acc: 0.9428\n",
      "Epoch 74/200\n",
      "60000/60000 [==============================] - 2s 34us/step - loss: 0.1474 - acc: 0.9450\n",
      "Epoch 75/200\n",
      "60000/60000 [==============================] - 2s 34us/step - loss: 0.1475 - acc: 0.9444\n",
      "Epoch 76/200\n",
      "60000/60000 [==============================] - 2s 34us/step - loss: 0.1455 - acc: 0.9456\n",
      "Epoch 77/200\n",
      "60000/60000 [==============================] - 2s 34us/step - loss: 0.1451 - acc: 0.9459\n",
      "Epoch 78/200\n"
     ]
    },
    {
     "name": "stdout",
     "output_type": "stream",
     "text": [
      "60000/60000 [==============================] - 2s 33us/step - loss: 0.1458 - acc: 0.9459: 1s - loss: 0.14\n",
      "Epoch 79/200\n",
      "60000/60000 [==============================] - 2s 33us/step - loss: 0.1437 - acc: 0.9454\n",
      "Epoch 80/200\n",
      "60000/60000 [==============================] - 2s 33us/step - loss: 0.1409 - acc: 0.9466\n",
      "Epoch 81/200\n",
      "60000/60000 [==============================] - 2s 33us/step - loss: 0.1382 - acc: 0.9485\n",
      "Epoch 82/200\n",
      "60000/60000 [==============================] - 2s 33us/step - loss: 0.1370 - acc: 0.9487\n",
      "Epoch 83/200\n",
      "60000/60000 [==============================] - 2s 34us/step - loss: 0.1364 - acc: 0.9485: 1s - loss: 0.1 - ETA: 0s - loss: 0.1371 - acc: 0\n",
      "Epoch 84/200\n",
      "60000/60000 [==============================] - 2s 34us/step - loss: 0.1357 - acc: 0.9490: 1s - loss: 0.\n",
      "Epoch 85/200\n",
      "60000/60000 [==============================] - 2s 34us/step - loss: 0.1357 - acc: 0.9492\n",
      "Epoch 86/200\n",
      "60000/60000 [==============================] - 2s 35us/step - loss: 0.1365 - acc: 0.9490\n",
      "Epoch 87/200\n",
      "60000/60000 [==============================] - 2s 34us/step - loss: 0.1345 - acc: 0.9494: 1s - loss: 0.\n",
      "Epoch 88/200\n",
      "60000/60000 [==============================] - 2s 33us/step - loss: 0.1344 - acc: 0.9497\n",
      "Epoch 89/200\n",
      "60000/60000 [==============================] - 2s 34us/step - loss: 0.1317 - acc: 0.9505\n",
      "Epoch 90/200\n",
      "60000/60000 [==============================] - 2s 35us/step - loss: 0.1321 - acc: 0.9502\n",
      "Epoch 91/200\n",
      "60000/60000 [==============================] - 2s 33us/step - loss: 0.1301 - acc: 0.9513\n",
      "Epoch 92/200\n",
      "60000/60000 [==============================] - 2s 34us/step - loss: 0.1287 - acc: 0.9507\n",
      "Epoch 93/200\n",
      "60000/60000 [==============================] - 2s 33us/step - loss: 0.1296 - acc: 0.9509\n",
      "Epoch 94/200\n",
      "60000/60000 [==============================] - 2s 34us/step - loss: 0.1276 - acc: 0.9522\n",
      "Epoch 95/200\n",
      "60000/60000 [==============================] - 2s 35us/step - loss: 0.1271 - acc: 0.9520\n",
      "Epoch 96/200\n",
      "60000/60000 [==============================] - 2s 34us/step - loss: 0.1254 - acc: 0.9521\n",
      "Epoch 97/200\n",
      "60000/60000 [==============================] - 2s 33us/step - loss: 0.1266 - acc: 0.9529\n",
      "Epoch 98/200\n",
      "60000/60000 [==============================] - 2s 34us/step - loss: 0.1240 - acc: 0.9537\n",
      "Epoch 99/200\n",
      "60000/60000 [==============================] - 2s 34us/step - loss: 0.1258 - acc: 0.9528\n",
      "Epoch 100/200\n",
      "60000/60000 [==============================] - 2s 34us/step - loss: 0.1201 - acc: 0.9544\n",
      "Epoch 101/200\n",
      "60000/60000 [==============================] - 2s 34us/step - loss: 0.1224 - acc: 0.9540\n",
      "Epoch 102/200\n",
      "60000/60000 [==============================] - 2s 33us/step - loss: 0.1215 - acc: 0.9539\n",
      "Epoch 103/200\n",
      "60000/60000 [==============================] - 2s 33us/step - loss: 0.1194 - acc: 0.9548\n",
      "Epoch 104/200\n",
      "60000/60000 [==============================] - 2s 34us/step - loss: 0.1235 - acc: 0.9538\n",
      "Epoch 105/200\n",
      "60000/60000 [==============================] - 2s 34us/step - loss: 0.1194 - acc: 0.9551\n",
      "Epoch 106/200\n",
      "60000/60000 [==============================] - 2s 34us/step - loss: 0.1185 - acc: 0.9550\n",
      "Epoch 107/200\n",
      "60000/60000 [==============================] - 2s 34us/step - loss: 0.1190 - acc: 0.9552\n",
      "Epoch 108/200\n",
      "60000/60000 [==============================] - 2s 34us/step - loss: 0.1167 - acc: 0.9561\n",
      "Epoch 109/200\n",
      "60000/60000 [==============================] - 2s 33us/step - loss: 0.1183 - acc: 0.9550\n",
      "Epoch 110/200\n",
      "60000/60000 [==============================] - 2s 35us/step - loss: 0.1162 - acc: 0.9555\n",
      "Epoch 111/200\n",
      "60000/60000 [==============================] - 2s 37us/step - loss: 0.1152 - acc: 0.9561\n",
      "Epoch 112/200\n",
      "60000/60000 [==============================] - 2s 36us/step - loss: 0.1133 - acc: 0.9569\n",
      "Epoch 113/200\n",
      "60000/60000 [==============================] - 2s 34us/step - loss: 0.1148 - acc: 0.9558\n",
      "Epoch 114/200\n",
      "60000/60000 [==============================] - 2s 34us/step - loss: 0.1124 - acc: 0.9578\n",
      "Epoch 115/200\n",
      "60000/60000 [==============================] - 2s 35us/step - loss: 0.1074 - acc: 0.9595\n",
      "Epoch 116/200\n",
      "60000/60000 [==============================] - 2s 33us/step - loss: 0.1101 - acc: 0.9574\n",
      "Epoch 117/200\n",
      "60000/60000 [==============================] - ETA: 0s - loss: 0.1102 - acc: 0.9588- ETA: 0s - loss: 0.1097 - acc: - 2s 34us/step - loss: 0.1102 - acc: 0.9588\n",
      "Epoch 118/200\n",
      "60000/60000 [==============================] - 2s 34us/step - loss: 0.1084 - acc: 0.9590\n",
      "Epoch 119/200\n",
      "60000/60000 [==============================] - 2s 34us/step - loss: 0.1093 - acc: 0.9588\n",
      "Epoch 120/200\n",
      "60000/60000 [==============================] - 2s 35us/step - loss: 0.1078 - acc: 0.9594\n",
      "Epoch 121/200\n",
      "60000/60000 [==============================] - 2s 35us/step - loss: 0.1066 - acc: 0.9593\n",
      "Epoch 122/200\n",
      "60000/60000 [==============================] - 2s 34us/step - loss: 0.1068 - acc: 0.9598\n",
      "Epoch 123/200\n",
      "60000/60000 [==============================] - 2s 34us/step - loss: 0.1057 - acc: 0.9601\n",
      "Epoch 124/200\n",
      "60000/60000 [==============================] - 2s 34us/step - loss: 0.1012 - acc: 0.9621\n",
      "Epoch 125/200\n",
      "60000/60000 [==============================] - 2s 33us/step - loss: 0.1031 - acc: 0.9610\n",
      "Epoch 126/200\n",
      "60000/60000 [==============================] - 2s 34us/step - loss: 0.1024 - acc: 0.9607\n",
      "Epoch 127/200\n",
      "60000/60000 [==============================] - 2s 34us/step - loss: 0.1031 - acc: 0.9603: 0s - loss: 0.1012 \n",
      "Epoch 128/200\n",
      "60000/60000 [==============================] - 2s 33us/step - loss: 0.1041 - acc: 0.9602\n",
      "Epoch 129/200\n",
      "60000/60000 [==============================] - 2s 34us/step - loss: 0.1012 - acc: 0.9615\n",
      "Epoch 130/200\n",
      "60000/60000 [==============================] - 2s 33us/step - loss: 0.1021 - acc: 0.9617\n",
      "Epoch 131/200\n",
      "60000/60000 [==============================] - 2s 33us/step - loss: 0.0997 - acc: 0.9623\n",
      "Epoch 132/200\n",
      "60000/60000 [==============================] - 2s 33us/step - loss: 0.1023 - acc: 0.9609\n",
      "Epoch 133/200\n",
      "60000/60000 [==============================] - 2s 34us/step - loss: 0.1026 - acc: 0.9606: 1s - loss: \n",
      "Epoch 134/200\n",
      "60000/60000 [==============================] - 2s 34us/step - loss: 0.1007 - acc: 0.9617\n",
      "Epoch 135/200\n",
      "60000/60000 [==============================] - 2s 34us/step - loss: 0.0976 - acc: 0.9626\n",
      "Epoch 136/200\n",
      "60000/60000 [==============================] - 2s 34us/step - loss: 0.0954 - acc: 0.9635\n",
      "Epoch 137/200\n",
      "60000/60000 [==============================] - 2s 34us/step - loss: 0.0958 - acc: 0.9641\n",
      "Epoch 138/200\n",
      "60000/60000 [==============================] - 2s 34us/step - loss: 0.0986 - acc: 0.9629\n",
      "Epoch 139/200\n",
      "60000/60000 [==============================] - 2s 34us/step - loss: 0.0951 - acc: 0.9646\n",
      "Epoch 140/200\n",
      "60000/60000 [==============================] - 2s 34us/step - loss: 0.0935 - acc: 0.9644\n",
      "Epoch 141/200\n",
      "60000/60000 [==============================] - 2s 34us/step - loss: 0.0937 - acc: 0.9642\n",
      "Epoch 142/200\n",
      "60000/60000 [==============================] - 2s 36us/step - loss: 0.0931 - acc: 0.9641\n",
      "Epoch 143/200\n",
      "60000/60000 [==============================] - 2s 35us/step - loss: 0.0926 - acc: 0.9644\n",
      "Epoch 144/200\n",
      "60000/60000 [==============================] - 2s 35us/step - loss: 0.0936 - acc: 0.9647\n",
      "Epoch 145/200\n",
      "60000/60000 [==============================] - 2s 34us/step - loss: 0.0922 - acc: 0.9653: 0s - loss: 0.0924 - acc: 0.96\n",
      "Epoch 146/200\n",
      "60000/60000 [==============================] - 2s 36us/step - loss: 0.0923 - acc: 0.9654\n",
      "Epoch 147/200\n",
      "60000/60000 [==============================] - 2s 35us/step - loss: 0.0942 - acc: 0.9644: 0s - loss: 0.0942 \n",
      "Epoch 148/200\n",
      "60000/60000 [==============================] - 2s 34us/step - loss: 0.0939 - acc: 0.9638\n",
      "Epoch 149/200\n",
      "60000/60000 [==============================] - 2s 34us/step - loss: 0.0910 - acc: 0.9643\n",
      "Epoch 150/200\n",
      "60000/60000 [==============================] - 2s 35us/step - loss: 0.0912 - acc: 0.9649\n",
      "Epoch 151/200\n",
      "60000/60000 [==============================] - 2s 33us/step - loss: 0.0915 - acc: 0.9651: 0s - loss: 0.0902 - acc: \n",
      "Epoch 152/200\n",
      "60000/60000 [==============================] - 2s 33us/step - loss: 0.0880 - acc: 0.9657\n",
      "Epoch 153/200\n",
      "60000/60000 [==============================] - 2s 35us/step - loss: 0.0899 - acc: 0.9653\n",
      "Epoch 154/200\n",
      "60000/60000 [==============================] - 2s 34us/step - loss: 0.0932 - acc: 0.9644\n",
      "Epoch 155/200\n"
     ]
    },
    {
     "name": "stdout",
     "output_type": "stream",
     "text": [
      "60000/60000 [==============================] - 2s 33us/step - loss: 0.0915 - acc: 0.9653\n",
      "Epoch 156/200\n",
      "60000/60000 [==============================] - 2s 35us/step - loss: 0.0898 - acc: 0.9661\n",
      "Epoch 157/200\n",
      "60000/60000 [==============================] - 2s 34us/step - loss: 0.0870 - acc: 0.9669\n",
      "Epoch 158/200\n",
      "60000/60000 [==============================] - 2s 34us/step - loss: 0.0883 - acc: 0.9672\n",
      "Epoch 159/200\n",
      "60000/60000 [==============================] - 2s 36us/step - loss: 0.0885 - acc: 0.9662\n",
      "Epoch 160/200\n",
      "60000/60000 [==============================] - 2s 34us/step - loss: 0.0894 - acc: 0.9667\n",
      "Epoch 161/200\n",
      "60000/60000 [==============================] - 2s 34us/step - loss: 0.0875 - acc: 0.9666\n",
      "Epoch 162/200\n",
      "60000/60000 [==============================] - 2s 34us/step - loss: 0.0885 - acc: 0.9660\n",
      "Epoch 163/200\n",
      "60000/60000 [==============================] - 2s 35us/step - loss: 0.0875 - acc: 0.9665\n",
      "Epoch 164/200\n",
      "60000/60000 [==============================] - 2s 35us/step - loss: 0.0889 - acc: 0.9664\n",
      "Epoch 165/200\n",
      "60000/60000 [==============================] - 2s 36us/step - loss: 0.0870 - acc: 0.9672\n",
      "Epoch 166/200\n",
      "60000/60000 [==============================] - 2s 35us/step - loss: 0.0858 - acc: 0.9679\n",
      "Epoch 167/200\n",
      "60000/60000 [==============================] - 2s 34us/step - loss: 0.0869 - acc: 0.9667\n",
      "Epoch 168/200\n",
      "60000/60000 [==============================] - 2s 34us/step - loss: 0.0836 - acc: 0.9683\n",
      "Epoch 169/200\n",
      "60000/60000 [==============================] - 2s 34us/step - loss: 0.0817 - acc: 0.9693\n",
      "Epoch 170/200\n",
      "60000/60000 [==============================] - 2s 34us/step - loss: 0.0841 - acc: 0.9685\n",
      "Epoch 171/200\n",
      "60000/60000 [==============================] - 2s 34us/step - loss: 0.0816 - acc: 0.9685\n",
      "Epoch 172/200\n",
      "60000/60000 [==============================] - 2s 35us/step - loss: 0.0809 - acc: 0.9699\n",
      "Epoch 173/200\n",
      "60000/60000 [==============================] - 2s 34us/step - loss: 0.0822 - acc: 0.9693\n",
      "Epoch 174/200\n",
      "60000/60000 [==============================] - 2s 35us/step - loss: 0.0818 - acc: 0.9685\n",
      "Epoch 175/200\n",
      "60000/60000 [==============================] - 2s 34us/step - loss: 0.0816 - acc: 0.9687\n",
      "Epoch 176/200\n",
      "60000/60000 [==============================] - 2s 34us/step - loss: 0.0842 - acc: 0.9679\n",
      "Epoch 177/200\n",
      "60000/60000 [==============================] - 2s 33us/step - loss: 0.0818 - acc: 0.9690\n",
      "Epoch 178/200\n",
      "60000/60000 [==============================] - 2s 34us/step - loss: 0.0813 - acc: 0.9697\n",
      "Epoch 179/200\n",
      "60000/60000 [==============================] - 2s 33us/step - loss: 0.0817 - acc: 0.9687\n",
      "Epoch 180/200\n",
      "60000/60000 [==============================] - 2s 34us/step - loss: 0.0817 - acc: 0.9686\n",
      "Epoch 181/200\n",
      "60000/60000 [==============================] - 2s 34us/step - loss: 0.0810 - acc: 0.9695\n",
      "Epoch 182/200\n",
      "60000/60000 [==============================] - 2s 33us/step - loss: 0.0812 - acc: 0.9692\n",
      "Epoch 183/200\n",
      "60000/60000 [==============================] - 2s 34us/step - loss: 0.0787 - acc: 0.9708\n",
      "Epoch 184/200\n",
      "60000/60000 [==============================] - 2s 34us/step - loss: 0.0786 - acc: 0.9696: 0s - loss: 0.0777 - a\n",
      "Epoch 185/200\n",
      "60000/60000 [==============================] - 2s 35us/step - loss: 0.0794 - acc: 0.9695\n",
      "Epoch 186/200\n",
      "60000/60000 [==============================] - 2s 35us/step - loss: 0.0798 - acc: 0.9699\n",
      "Epoch 187/200\n",
      "60000/60000 [==============================] - 2s 34us/step - loss: 0.0775 - acc: 0.9704\n",
      "Epoch 188/200\n",
      "60000/60000 [==============================] - 2s 35us/step - loss: 0.0784 - acc: 0.9702\n",
      "Epoch 189/200\n",
      "60000/60000 [==============================] - 2s 34us/step - loss: 0.0771 - acc: 0.9704\n",
      "Epoch 190/200\n",
      "60000/60000 [==============================] - 2s 33us/step - loss: 0.0745 - acc: 0.9721\n",
      "Epoch 191/200\n",
      "60000/60000 [==============================] - 2s 34us/step - loss: 0.0746 - acc: 0.9717\n",
      "Epoch 192/200\n",
      "60000/60000 [==============================] - 2s 35us/step - loss: 0.0779 - acc: 0.9703\n",
      "Epoch 193/200\n",
      "60000/60000 [==============================] - 2s 34us/step - loss: 0.0756 - acc: 0.9711\n",
      "Epoch 194/200\n",
      "60000/60000 [==============================] - 2s 34us/step - loss: 0.0760 - acc: 0.9712\n",
      "Epoch 195/200\n",
      "60000/60000 [==============================] - 2s 33us/step - loss: 0.0748 - acc: 0.9716\n",
      "Epoch 196/200\n",
      "60000/60000 [==============================] - 2s 33us/step - loss: 0.0752 - acc: 0.9712\n",
      "Epoch 197/200\n",
      "60000/60000 [==============================] - 2s 34us/step - loss: 0.0758 - acc: 0.9716\n",
      "Epoch 198/200\n",
      "60000/60000 [==============================] - 2s 35us/step - loss: 0.0763 - acc: 0.9703\n",
      "Epoch 199/200\n",
      "60000/60000 [==============================] - 2s 34us/step - loss: 0.0747 - acc: 0.9709\n",
      "Epoch 200/200\n",
      "60000/60000 [==============================] - 2s 34us/step - loss: 0.0783 - acc: 0.9708\n"
     ]
    },
    {
     "data": {
      "text/plain": [
       "<tensorflow.python.keras.callbacks.History at 0x7f378e2d77f0>"
      ]
     },
     "execution_count": 12,
     "metadata": {},
     "output_type": "execute_result"
    }
   ],
   "source": [
    "batch_size = 1024\n",
    "epochs = 200\n",
    "model.fit(x_train, y_train, epochs=epochs, batch_size=batch_size)"
   ]
  },
  {
   "cell_type": "markdown",
   "metadata": {},
   "source": [
    "## Question 3 (20 points) \n",
    "\n",
    "Evaluate the performance of your network with the test data. \n",
    "Visualize the performance using appropriate metrics and graphs (eg. confusion matrix). \n",
    "Comment on your per class performance and how it could be better."
   ]
  },
  {
   "cell_type": "code",
   "execution_count": 13,
   "metadata": {},
   "outputs": [],
   "source": [
    "# This function is provided for you to display the confusion matrix.\n",
    "# For more information about the confusion matrix, you can read at\n",
    "# https://en.wikipedia.org/wiki/Confusion_matrix\n",
    "def plot_confusion_matrix(cm, classes, normalize=False, title='Confusion matrix', cmap=plt.cm.Blues):\n",
    "    \"\"\"\n",
    "        This function prints and plots the confusion matrix.\n",
    "        \n",
    "        cm: confusion matrix, default to be np.int32 data type\n",
    "        classes: a list of the class labels or class names\n",
    "        normalize: normalize the matrix so that each row amounts to one\n",
    "        cmap: color map\n",
    "    \"\"\"\n",
    "    if normalize:\n",
    "        cm = cm.astype('float') / cm.sum(axis=1)[:, np.newaxis]\n",
    "        print(\"Normalized confusion matrix\")\n",
    "    else:\n",
    "        print('Confusion matrix, without normalization')\n",
    "    print(cm)\n",
    "\n",
    "    plt.imshow(cm, interpolation='nearest', cmap=cmap)\n",
    "    plt.title(title)\n",
    "    plt.colorbar()\n",
    "    tick_marks = np.arange(len(classes))\n",
    "    plt.xticks(tick_marks, classes, rotation=45)\n",
    "    plt.yticks(tick_marks, classes)\n",
    "\n",
    "    fmt = '.2f' if normalize else 'd'\n",
    "    thresh = cm.max() / 2.\n",
    "    for i, j in itertools.product(range(cm.shape[0]), range(cm.shape[1])):\n",
    "        plt.text(j, i, format(cm[i, j], fmt),\n",
    "                 horizontalalignment=\"center\",\n",
    "                 color=\"white\" if cm[i, j] > thresh else \"black\")\n",
    "    plt.ylabel('True label')\n",
    "    plt.xlabel('Predicted label')\n",
    "    plt.tight_layout()"
   ]
  },
  {
   "cell_type": "markdown",
   "metadata": {},
   "source": [
    "### 3.1 Evaluate the classification accuracy on the test set (10 points)"
   ]
  },
  {
   "cell_type": "code",
   "execution_count": 14,
   "metadata": {},
   "outputs": [
    {
     "name": "stdout",
     "output_type": "stream",
     "text": [
      "10000/10000 [==============================] - 0s 41us/step\n",
      "Loss: 0.411332\n",
      "Accuracy: 90.750000%\n"
     ]
    }
   ],
   "source": [
    "results = model.evaluate(x_test, y_test)\n",
    "print(\"Loss: %f\" % results[0])\n",
    "print(\"Accuracy: %f\" %  (results[1] * 100) + '%')"
   ]
  },
  {
   "cell_type": "markdown",
   "metadata": {},
   "source": [
    "### 3.2 Calculate and plot the confusion matrix (10 points)"
   ]
  },
  {
   "cell_type": "code",
   "execution_count": 15,
   "metadata": {},
   "outputs": [
    {
     "name": "stdout",
     "output_type": "stream",
     "text": [
      "Confusion matrix, without normalization\n",
      "[[881   2  13  19   3   1  78   0   3   0]\n",
      " [  2 983   0   9   2   0   2   0   2   0]\n",
      " [ 19   1 844   7  63   1  65   0   0   0]\n",
      " [ 11   6  10 917  27   0  24   0   5   0]\n",
      " [  0   0  78  25 820   0  75   0   2   0]\n",
      " [  0   0   0   1   0 977   0  16   1   5]\n",
      " [123   1  71  23  35   0 738   0   9   0]\n",
      " [  0   0   0   0   0   6   0 980   0  14]\n",
      " [  5   0   3   3   0   1   3   3 982   0]\n",
      " [  0   0   0   0   0   7   1  39   0 953]]\n"
     ]
    },
    {
     "data": {
      "image/png": "[encoded data removed]",
      "text/plain": [
       "<Figure size 432x288 with 2 Axes>"
      ]
     },
     "metadata": {
      "needs_background": "light"
     },
     "output_type": "display_data"
    }
   ],
   "source": [
    "cm = np.zeros(NUM_CLASSES * NUM_CLASSES).reshape((NUM_CLASSES, NUM_CLASSES)).astype(np.int32)\n",
    "predictions = model.predict(x_test)\n",
    "\n",
    "for i in range(len(predictions)):\n",
    "    actual_index = np.argmax(y_test[i])\n",
    "    predicted_index = np.argmax(predictions[i])\n",
    "    cm[actual_index][predicted_index] += 1\n",
    "\n",
    "plot_confusion_matrix(cm, classes)"
   ]
  },
  {
   "cell_type": "markdown",
   "metadata": {},
   "source": [
    "### 3.3 Comment on your per class performance and how it could be better.\n",
    "\n",
    "T-shirt/top: This class was correct 88.1% of the time. It was misclassified as a shirt 7.8% of the time.\n",
    "\n",
    "Trousers: This class was correct 98.3% of the time with few misclassifications.\n",
    "\n",
    "Pullover: This class was correct 84.4% of the time. It was misclassified as a coat 6.3% of the time and shirt 6.5% of the time.\n",
    "\n",
    "Dress: This class was correct 91.7% of the time.\n",
    "\n",
    "Coat: This clase was correct 82.0% of the time. It was misclassified as pullover 7.8% of the time.\n",
    "\n",
    "Sandal: This class was correct 97.7% of the time with few misclassification.\n",
    "\n",
    "Shirt: This class was correct 73.8% of the time. It was misclassified as T-shirt/top 12.3% of the time and pullover 7.1% of the time.\n",
    "\n",
    "Sneaker: This class was correct 98.0% of the time with few misclassification.\n",
    "\n",
    "Bag: This class was correct 98.2% of the time with few misclassification.\n",
    "\n",
    "Ankle boot: This class was correct 95.3% of the time with few misclassification.\n",
    "\n",
    "The items of upper body clothing were often misclassified. This is most likely because they are have similar features such as sleaves. A possibile solution to this would be to use higher resolution images which could have more detail to be able to differentiate from these similar classes."
   ]
  },
  {
   "cell_type": "markdown",
   "metadata": {},
   "source": [
    "## Question 4 (20 points)\n",
    "Take two photos, one of your clothes or shoes that belongs to one of 10 classes, the other that does not belong to any class.\n",
    "\n",
    "Use either Python or other software (Photoshop, Gimp, or any image editer) to convert the photos into grayscale, crop the region of interest and reshape into the size of 28x28.\n",
    "\n",
    "### 4.1 Load and visualise your own images (6 points)\n",
    "\n",
    "#### Visualising trousers"
   ]
  },
  {
   "cell_type": "code",
   "execution_count": 16,
   "metadata": {},
   "outputs": [
    {
     "data": {
      "text/plain": [
       "<matplotlib.image.AxesImage at 0x7f376c7cc0f0>"
      ]
     },
     "execution_count": 16,
     "metadata": {},
     "output_type": "execute_result"
    },
    {
     "data": {
      "image/png": "[encoded data removed]",
      "text/plain": [
       "<Figure size 432x288 with 1 Axes>"
      ]
     },
     "metadata": {
      "needs_background": "light"
     },
     "output_type": "display_data"
    }
   ],
   "source": [
    "trousers = cv2.imread('trousers.jpg', 0)\n",
    "plt.imshow(trousers)"
   ]
  },
  {
   "cell_type": "markdown",
   "metadata": {},
   "source": [
    "#### Visualise shorts"
   ]
  },
  {
   "cell_type": "code",
   "execution_count": 17,
   "metadata": {},
   "outputs": [
    {
     "data": {
      "text/plain": [
       "<matplotlib.image.AxesImage at 0x7f376c797eb8>"
      ]
     },
     "execution_count": 17,
     "metadata": {},
     "output_type": "execute_result"
    },
    {
     "data": {
      "image/png": "[encoded data removed]",
      "text/plain": [
       "<Figure size 432x288 with 1 Axes>"
      ]
     },
     "metadata": {
      "needs_background": "light"
     },
     "output_type": "display_data"
    }
   ],
   "source": [
    "shorts = cv2.imread('shorts.jpg', 0)\n",
    "plt.imshow(shorts)"
   ]
  },
  {
   "cell_type": "markdown",
   "metadata": {},
   "source": [
    "### 4.2 Test your network on the two images and show the classification results (10 points)"
   ]
  },
  {
   "cell_type": "code",
   "execution_count": 18,
   "metadata": {},
   "outputs": [
    {
     "name": "stdout",
     "output_type": "stream",
     "text": [
      "Prediction: Trousers \n",
      "Probability: 1.000000\n"
     ]
    }
   ],
   "source": [
    "trousers = preprocess_image(trousers)\n",
    "prediction = model.predict(trousers.reshape((1,784)))\n",
    "label = np.argmax(prediction)\n",
    "print(\"Prediction: %s \\nProbability: %f\" % (classes[label], prediction[0][label]))"
   ]
  },
  {
   "cell_type": "code",
   "execution_count": 19,
   "metadata": {},
   "outputs": [
    {
     "name": "stdout",
     "output_type": "stream",
     "text": [
      "Prediction: Bag \n",
      "Probability: 0.839129\n"
     ]
    }
   ],
   "source": [
    "shorts = preprocess_image(shorts)\n",
    "prediction = model.predict(shorts.reshape((1,784)))\n",
    "label = np.argmax(prediction)\n",
    "print(\"Prediction: %s \\nProbability: %f\" % (classes[label], prediction[0][label]))"
   ]
  },
  {
   "cell_type": "markdown",
   "metadata": {},
   "source": [
    "### 4.3 Discuss the classification results and provide one method to improve real life performance of the network (4 points)"
   ]
  },
  {
   "cell_type": "markdown",
   "metadata": {},
   "source": [
    "The image of the trousers was classified correctly with a very high probability. This is to be expected as trousers had a very high classification accuracy. Surprisingly, the shorts image was classified as a bag even though intuitively, it shares the most similar features to trousers. As it is more rectangular and the line dividing the legs is not very pronounced, it is understandable why it would get confused with a bag.\n",
    "\n",
    "One way to improve the performance of the model would be to apply random transformations on the images during the training phase. This would include flipping, rotating, shearing, cropping and translational shifting the image before the forward pass through the network. By augmenting the data in this way, we can effectively increase the dataset size by introducing more data points. This will result in a more accurate model. "
   ]
  },
  {
   "cell_type": "markdown",
   "metadata": {},
   "source": [
    "## 5. Survey\n",
    "How long did the coursework take you to solve? "
   ]
  },
  {
   "cell_type": "markdown",
   "metadata": {},
   "source": [
    "8 hours"
   ]
  }
 ],
 "metadata": {
  "kernelspec": {
   "display_name": "Python 3",
   "language": "python",
   "name": "python3"
  },
  "language_info": {
   "codemirror_mode": {
    "name": "ipython",
    "version": 3
   },
   "file_extension": ".py",
   "mimetype": "text/x-python",
   "name": "python",
   "nbconvert_exporter": "python",
   "pygments_lexer": "ipython3",
   "version": "3.6.6"
  }
 },
 "nbformat": 4,
 "nbformat_minor": 2
}
