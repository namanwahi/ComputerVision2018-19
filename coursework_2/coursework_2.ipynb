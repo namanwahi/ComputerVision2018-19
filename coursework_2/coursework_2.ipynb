{
 "cells": [
  {
   "cell_type": "markdown",
   "metadata": {},
   "source": [
    "# Coursework 2: Neural Networks \n",
    "\n",
    "This coursework covers the topics covered in class regarding neural networks for image classification.\n",
    "\n",
    "This coursework includes both coding questions as well as written ones. Please upload the notebook, which contains your code, results and answers as a pdf file onto Cate.\n",
    "\n",
    "Dependencies: If you work on a college computer in the Computing Lab, where Ubuntu 18.04 is installed by default, you can use the following virtual environment for your work, where relevant Python packages are already installed.\n",
    "\n",
    "`source /vol/bitbucket/wbai/virt/computer_vision_ubuntu18.04/bin/activate`\n",
    "\n",
    "Alternatively, you can use pip, pip3 or anaconda etc to install Python packages.\n",
    "\n",
    "**Note 1:** please read the both the text and code comment in this notebook to get an idea what you are supposed to implement.\n",
    "\n",
    "**Note 2:** If you are using the virtual environment in the Computing Lab, please run the following command in the command line before opening jupyter-notebook and importing tensorflow. This will tell tensorflow where the Nvidia CUDA libariries are.\n",
    "\n",
    "`export LD_LIBRARY_PATH=/vol/cuda/9.0.176/lib64/:\"${LD_LIBRARY_PATH}}\"` "
   ]
  },
  {
   "cell_type": "code",
   "execution_count": 1,
   "metadata": {},
   "outputs": [],
   "source": [
    "# Import libraries\n",
    "import numpy as np \n",
    "import matplotlib.pyplot as plt\n",
    "%matplotlib inline\n",
    "import tensorflow as tf \n",
    "from tensorflow import keras\n",
    "from tensorflow.keras.models import Sequential\n",
    "from tensorflow.keras.layers import Dense, Dropout\n",
    "from tensorflow.keras import losses \n",
    "import itertools\n",
    "import cv2\n",
    "\n",
    "# constants\n",
    "NUM_CLASSES = 10"
   ]
  },
  {
   "cell_type": "markdown",
   "metadata": {},
   "source": [
    "## Question 1 (20 points)\n",
    "\n",
    "Throughout this coursework you will be working with the Fashion-MNIST dataset. If you are interested, you may find relevant information regarding the dataset in this paper.\n",
    "\n",
    "[1] Fashion-MNIST: A novel image dataset for benchmarking machine learning algorithms. Han Xiao, Kashif Rasul, Roland Vollgraf. [arXiv:1708.07747](https://arxiv.org/abs/1708.07747)\n",
    "\n",
    "Be sure that you have the following files in your working directory: data.tar.gz and reader.py. Loading the data can be done as follows:\n",
    "\n",
    "`from reader import get_images\n",
    "(x_train, y_train), (x_test, y_test) = get_images()`\n",
    "\n",
    "The dataset is already split into a set of 60,000 training images and a set of 10,000 test images. The images are of size 28x28 pixels and stored as 784-D vector. So if you would like to visualise the images, you need to reshape the array.\n",
    "\n",
    "There are in total 10 label classes, which are:\n",
    "* 0: T-shirt/top\n",
    "* 1: Trousers\n",
    "* 2: Pullover\n",
    "* 3: Dress\n",
    "* 4: Coat\n",
    "* 5: Sandal\n",
    "* 6: Shirt\n",
    "* 7: Sneaker\n",
    "* 8: Bag\n",
    "* 9: Ankle boot"
   ]
  },
  {
   "cell_type": "markdown",
   "metadata": {},
   "source": [
    "### 1.1 Load data (6 points)\n",
    "Load the dataset and print the dimensions of the training set and the test set."
   ]
  },
  {
   "cell_type": "code",
   "execution_count": 2,
   "metadata": {
    "scrolled": true
   },
   "outputs": [
    {
     "name": "stdout",
     "output_type": "stream",
     "text": [
      "Training Set Dimensions:\n",
      "Training set data dimensions: (60000, 784)\n",
      "Training set labels dimensions: (60000,)\n",
      "Test Set Dimensions:\n",
      "Test set data dimensions: (10000, 784)\n",
      "Test set labels dimensions: (10000,)\n"
     ]
    }
   ],
   "source": [
    "from reader import get_images\n",
    "(x_train, y_train), (x_test, y_test) = get_images()\n",
    "print(\"Training Set Dimensions:\")\n",
    "print(\"Training set data dimensions: %s\" % str(x_train.shape))\n",
    "print(\"Training set labels dimensions: %s\" % str(y_train.shape))\n",
    "\n",
    "print(\"Test Set Dimensions:\")\n",
    "print(\"Test set data dimensions: %s\" % str(x_test.shape))\n",
    "print(\"Test set labels dimensions: %s\" % str(y_test.shape))"
   ]
  },
  {
   "cell_type": "markdown",
   "metadata": {},
   "source": [
    "### 1.2 Visualize data (6 points)\n",
    "Visualise 3 training images (T-shirt, trousers and pullover) and 3 test images (dress, coat and sandal)."
   ]
  },
  {
   "cell_type": "code",
   "execution_count": 3,
   "metadata": {},
   "outputs": [
    {
     "data": {
      "text/plain": [
       "<matplotlib.image.AxesImage at 0x7f5a201da438>"
      ]
     },
     "execution_count": 3,
     "metadata": {},
     "output_type": "execute_result"
    },
    {
     "data": {
      "image/png": "[encoded data removed]",
      "text/plain": [
       "<Figure size 432x288 with 1 Axes>"
      ]
     },
     "metadata": {
      "needs_background": "light"
     },
     "output_type": "display_data"
    }
   ],
   "source": [
    "plt.imshow(x_train[1].reshape(28, 28))"
   ]
  },
  {
   "cell_type": "code",
   "execution_count": 4,
   "metadata": {},
   "outputs": [
    {
     "data": {
      "text/plain": [
       "<matplotlib.image.AxesImage at 0x7f5a20624860>"
      ]
     },
     "execution_count": 4,
     "metadata": {},
     "output_type": "execute_result"
    },
    {
     "data": {
      "image/png": "[encoded data removed]",
      "text/plain": [
       "<Figure size 432x288 with 1 Axes>"
      ]
     },
     "metadata": {
      "needs_background": "light"
     },
     "output_type": "display_data"
    }
   ],
   "source": [
    "plt.imshow(x_train[16].reshape(28, 28))"
   ]
  },
  {
   "cell_type": "code",
   "execution_count": 5,
   "metadata": {},
   "outputs": [
    {
     "data": {
      "text/plain": [
       "<matplotlib.image.AxesImage at 0x7f5a205a0908>"
      ]
     },
     "execution_count": 5,
     "metadata": {},
     "output_type": "execute_result"
    },
    {
     "data": {
      "image/png": "[encoded data removed]",
      "text/plain": [
       "<Figure size 432x288 with 1 Axes>"
      ]
     },
     "metadata": {
      "needs_background": "light"
     },
     "output_type": "display_data"
    }
   ],
   "source": [
    "plt.imshow(x_train[5].reshape(28, 28))"
   ]
  },
  {
   "cell_type": "code",
   "execution_count": 6,
   "metadata": {},
   "outputs": [
    {
     "data": {
      "text/plain": [
       "<matplotlib.image.AxesImage at 0x7f5a2057e860>"
      ]
     },
     "execution_count": 6,
     "metadata": {},
     "output_type": "execute_result"
    },
    {
     "data": {
      "image/png": "[encoded data removed]",
      "text/plain": [
       "<Figure size 432x288 with 1 Axes>"
      ]
     },
     "metadata": {
      "needs_background": "light"
     },
     "output_type": "display_data"
    }
   ],
   "source": [
    "plt.imshow(x_test[13].reshape(28, 28))"
   ]
  },
  {
   "cell_type": "code",
   "execution_count": 7,
   "metadata": {},
   "outputs": [
    {
     "data": {
      "text/plain": [
       "<matplotlib.image.AxesImage at 0x7f5a204dc6d8>"
      ]
     },
     "execution_count": 7,
     "metadata": {},
     "output_type": "execute_result"
    },
    {
     "data": {
      "image/png": "[encoded data removed]",
      "text/plain": [
       "<Figure size 432x288 with 1 Axes>"
      ]
     },
     "metadata": {
      "needs_background": "light"
     },
     "output_type": "display_data"
    }
   ],
   "source": [
    "plt.imshow(x_test[6].reshape(28, 28))"
   ]
  },
  {
   "cell_type": "code",
   "execution_count": 8,
   "metadata": {},
   "outputs": [
    {
     "data": {
      "text/plain": [
       "<matplotlib.image.AxesImage at 0x7f5a204ba6d8>"
      ]
     },
     "execution_count": 8,
     "metadata": {},
     "output_type": "execute_result"
    },
    {
     "data": {
      "image/png": "[encoded data removed]",
      "text/plain": [
       "<Figure size 432x288 with 1 Axes>"
      ]
     },
     "metadata": {
      "needs_background": "light"
     },
     "output_type": "display_data"
    }
   ],
   "source": [
    "plt.imshow(x_test[8].reshape(28, 28))"
   ]
  },
  {
   "cell_type": "markdown",
   "metadata": {},
   "source": [
    "### 1.3 Data balance (4 points)\n",
    "Print out the number of training samples for each class."
   ]
  },
  {
   "cell_type": "code",
   "execution_count": 9,
   "metadata": {},
   "outputs": [
    {
     "name": "stdout",
     "output_type": "stream",
     "text": [
      "Class Frequency\n",
      " 0     6000\n",
      " 1     6000\n",
      " 2     6000\n",
      " 3     6000\n",
      " 4     6000\n",
      " 5     6000\n",
      " 6     6000\n",
      " 7     6000\n",
      " 8     6000\n",
      " 9     6000\n"
     ]
    }
   ],
   "source": [
    "frequency_table = [0] * NUM_CLASSES\n",
    "for label in y_train:\n",
    "    frequency_table[label] += 1\n",
    "\n",
    "print(\"Class Frequency\")\n",
    "for v, i in enumerate(frequency_table):\n",
    "    print(\" %d     %d\" % (v, i))"
   ]
  },
  {
   "cell_type": "markdown",
   "metadata": {},
   "source": [
    "### 1.4 Discussion (4 points)\n",
    "Is the dataset balanced? What would happen if the dataset is not balanced in the context of image classification? \n",
    "\n",
    "The dataset is balanced because there are the same number of images of each class. If t"
   ]
  },
  {
   "cell_type": "code",
   "execution_count": null,
   "metadata": {},
   "outputs": [],
   "source": []
  },
  {
   "cell_type": "markdown",
   "metadata": {},
   "source": [
    "## Question 2 (40 points)\n",
    "\n",
    "Build a neural network and train it with the Fashion-MNIST dataset. Here, we use the keras library, which is a high-level neural network library built upon tensorflow."
   ]
  },
  {
   "cell_type": "code",
   "execution_count": 10,
   "metadata": {},
   "outputs": [],
   "source": [
    "# Convert the label class into a one-hot representation\n",
    "y_train = keras.utils.to_categorical(y_train, NUM_CLASSES)\n",
    "y_test = keras.utils.to_categorical(y_test, NUM_CLASSES)\n",
    "\n",
    "x_train = x_train / 255.0\n",
    "x_test = x_test / 255.0\n",
    "\n"
   ]
  },
  {
   "cell_type": "markdown",
   "metadata": {},
   "source": [
    "### 2.1 Build a multi-layer perceptron, also known as multi-layer fully connected network. You need to define the layers, the loss function, the optimiser and evaluation metric. (30 points)"
   ]
  },
  {
   "cell_type": "code",
   "execution_count": 11,
   "metadata": {},
   "outputs": [],
   "source": [
    "model = keras.models.Sequential([\n",
    "  tf.keras.layers.Dense(1000, activation=tf.nn.relu),\n",
    "  tf.keras.layers.Dropout(0.4),\n",
    "  tf.keras.layers.Dense(10, activation=tf.nn.softmax)\n",
    "])\n",
    "\n",
    "model.compile(loss=\"categorical_crossentropy\", optimizer=\"adam\", metrics=[\"accuracy\"])\n",
    "#print(model.summary())"
   ]
  },
  {
   "cell_type": "markdown",
   "metadata": {},
   "source": [
    "### 2.2 Define the optimisation parameters including the batch size and the number of epochs and then run the optimiser. (10 points)\n",
    "\n",
    "We have tested that for an appropriate network architecture, on a personal laptop and with only CPU, it takes about a few seconds per epoch to train the network. For 100 epochs, it takes about a coffee break's time to finish the training. If you run it on a powerful GPU, it would be even much faster."
   ]
  },
  {
   "cell_type": "code",
   "execution_count": 12,
   "metadata": {},
   "outputs": [
    {
     "name": "stdout",
     "output_type": "stream",
     "text": [
      "Epoch 1/150\n",
      "60000/60000 [==============================] - 1s 24us/step - loss: 0.6714 - acc: 0.7672\n",
      "Epoch 2/150\n",
      "60000/60000 [==============================] - 1s 14us/step - loss: 0.4272 - acc: 0.8513\n",
      "Epoch 3/150\n",
      "60000/60000 [==============================] - 1s 14us/step - loss: 0.3780 - acc: 0.8674\n",
      "Epoch 4/150\n",
      "60000/60000 [==============================] - 1s 14us/step - loss: 0.3606 - acc: 0.8728\n",
      "Epoch 5/150\n",
      "60000/60000 [==============================] - 1s 14us/step - loss: 0.3356 - acc: 0.8819\n",
      "Epoch 6/150\n",
      "60000/60000 [==============================] - 1s 15us/step - loss: 0.3165 - acc: 0.8880\n",
      "Epoch 7/150\n",
      "60000/60000 [==============================] - 1s 14us/step - loss: 0.3060 - acc: 0.8893\n",
      "Epoch 8/150\n",
      "60000/60000 [==============================] - 1s 15us/step - loss: 0.2851 - acc: 0.8969\n",
      "Epoch 9/150\n",
      "60000/60000 [==============================] - 1s 14us/step - loss: 0.2720 - acc: 0.9026\n",
      "Epoch 10/150\n",
      "60000/60000 [==============================] - 1s 14us/step - loss: 0.2633 - acc: 0.9066\n",
      "Epoch 11/150\n",
      "60000/60000 [==============================] - 1s 14us/step - loss: 0.2615 - acc: 0.9045\n",
      "Epoch 12/150\n",
      "60000/60000 [==============================] - 1s 14us/step - loss: 0.2526 - acc: 0.9096\n",
      "Epoch 13/150\n",
      "60000/60000 [==============================] - 1s 14us/step - loss: 0.2452 - acc: 0.9113\n",
      "Epoch 14/150\n",
      "60000/60000 [==============================] - 1s 15us/step - loss: 0.2315 - acc: 0.9172\n",
      "Epoch 15/150\n",
      "60000/60000 [==============================] - 1s 15us/step - loss: 0.2267 - acc: 0.9176\n",
      "Epoch 16/150\n",
      "60000/60000 [==============================] - 1s 15us/step - loss: 0.2223 - acc: 0.9192\n",
      "Epoch 17/150\n",
      "60000/60000 [==============================] - 1s 15us/step - loss: 0.2122 - acc: 0.9235\n",
      "Epoch 18/150\n",
      "60000/60000 [==============================] - 1s 15us/step - loss: 0.2042 - acc: 0.9279\n",
      "Epoch 19/150\n",
      "60000/60000 [==============================] - 1s 15us/step - loss: 0.2009 - acc: 0.9277\n",
      "Epoch 20/150\n",
      "60000/60000 [==============================] - 1s 15us/step - loss: 0.1996 - acc: 0.9283\n",
      "Epoch 21/150\n",
      "60000/60000 [==============================] - 1s 14us/step - loss: 0.1893 - acc: 0.9318\n",
      "Epoch 22/150\n",
      "60000/60000 [==============================] - 1s 14us/step - loss: 0.1840 - acc: 0.9343\n",
      "Epoch 23/150\n",
      "60000/60000 [==============================] - 1s 14us/step - loss: 0.1843 - acc: 0.9342\n",
      "Epoch 24/150\n",
      "60000/60000 [==============================] - 1s 14us/step - loss: 0.1770 - acc: 0.9366\n",
      "Epoch 25/150\n",
      "60000/60000 [==============================] - 1s 14us/step - loss: 0.1764 - acc: 0.9373\n",
      "Epoch 26/150\n",
      "60000/60000 [==============================] - 1s 14us/step - loss: 0.1658 - acc: 0.9411\n",
      "Epoch 27/150\n",
      "60000/60000 [==============================] - 1s 14us/step - loss: 0.1613 - acc: 0.9424\n",
      "Epoch 28/150\n",
      "60000/60000 [==============================] - 1s 14us/step - loss: 0.1609 - acc: 0.9423\n",
      "Epoch 29/150\n",
      "60000/60000 [==============================] - 1s 14us/step - loss: 0.1565 - acc: 0.9436\n",
      "Epoch 30/150\n",
      "60000/60000 [==============================] - 1s 14us/step - loss: 0.1503 - acc: 0.9469\n",
      "Epoch 31/150\n",
      "60000/60000 [==============================] - 1s 14us/step - loss: 0.1450 - acc: 0.9489\n",
      "Epoch 32/150\n",
      "60000/60000 [==============================] - 1s 14us/step - loss: 0.1398 - acc: 0.9505\n",
      "Epoch 33/150\n",
      "60000/60000 [==============================] - 1s 14us/step - loss: 0.1422 - acc: 0.9506\n",
      "Epoch 34/150\n",
      "60000/60000 [==============================] - 1s 14us/step - loss: 0.1355 - acc: 0.9527\n",
      "Epoch 35/150\n",
      "60000/60000 [==============================] - 1s 14us/step - loss: 0.1253 - acc: 0.9578\n",
      "Epoch 36/150\n",
      "60000/60000 [==============================] - 1s 14us/step - loss: 0.1252 - acc: 0.9568\n",
      "Epoch 37/150\n",
      "60000/60000 [==============================] - 1s 14us/step - loss: 0.1259 - acc: 0.9563\n",
      "Epoch 38/150\n",
      "60000/60000 [==============================] - 1s 14us/step - loss: 0.1191 - acc: 0.9589\n",
      "Epoch 39/150\n",
      "60000/60000 [==============================] - 1s 14us/step - loss: 0.1198 - acc: 0.9579\n",
      "Epoch 40/150\n",
      "60000/60000 [==============================] - 1s 14us/step - loss: 0.1160 - acc: 0.9604\n",
      "Epoch 41/150\n",
      "60000/60000 [==============================] - 1s 14us/step - loss: 0.1100 - acc: 0.9635\n",
      "Epoch 42/150\n",
      "60000/60000 [==============================] - 1s 14us/step - loss: 0.1043 - acc: 0.9651\n",
      "Epoch 43/150\n",
      "60000/60000 [==============================] - 1s 14us/step - loss: 0.1055 - acc: 0.9633\n",
      "Epoch 44/150\n",
      "60000/60000 [==============================] - 1s 14us/step - loss: 0.0995 - acc: 0.9662\n",
      "Epoch 45/150\n",
      "60000/60000 [==============================] - 1s 14us/step - loss: 0.0985 - acc: 0.9673\n",
      "Epoch 46/150\n",
      "60000/60000 [==============================] - 1s 14us/step - loss: 0.0990 - acc: 0.9664\n",
      "Epoch 47/150\n",
      "60000/60000 [==============================] - 1s 14us/step - loss: 0.0913 - acc: 0.9691\n",
      "Epoch 48/150\n",
      "60000/60000 [==============================] - 1s 14us/step - loss: 0.0915 - acc: 0.9695\n",
      "Epoch 49/150\n",
      "60000/60000 [==============================] - 1s 14us/step - loss: 0.0882 - acc: 0.9714\n",
      "Epoch 50/150\n",
      "60000/60000 [==============================] - 1s 14us/step - loss: 0.0857 - acc: 0.9719\n",
      "Epoch 51/150\n",
      "60000/60000 [==============================] - 1s 14us/step - loss: 0.0804 - acc: 0.9742\n",
      "Epoch 52/150\n",
      "60000/60000 [==============================] - 1s 14us/step - loss: 0.0801 - acc: 0.9741\n",
      "Epoch 53/150\n",
      "60000/60000 [==============================] - 1s 14us/step - loss: 0.0792 - acc: 0.9740\n",
      "Epoch 54/150\n",
      "60000/60000 [==============================] - 1s 14us/step - loss: 0.0753 - acc: 0.9760\n",
      "Epoch 55/150\n",
      "60000/60000 [==============================] - 1s 14us/step - loss: 0.0772 - acc: 0.9744\n",
      "Epoch 56/150\n",
      "60000/60000 [==============================] - 1s 14us/step - loss: 0.0755 - acc: 0.9752\n",
      "Epoch 57/150\n",
      "60000/60000 [==============================] - 1s 14us/step - loss: 0.0700 - acc: 0.9772\n",
      "Epoch 58/150\n",
      "60000/60000 [==============================] - 1s 14us/step - loss: 0.0676 - acc: 0.9792\n",
      "Epoch 59/150\n",
      "60000/60000 [==============================] - 1s 14us/step - loss: 0.0667 - acc: 0.9784\n",
      "Epoch 60/150\n",
      "60000/60000 [==============================] - 1s 14us/step - loss: 0.0642 - acc: 0.9800\n",
      "Epoch 61/150\n",
      "60000/60000 [==============================] - 1s 14us/step - loss: 0.0631 - acc: 0.9795\n",
      "Epoch 62/150\n",
      "60000/60000 [==============================] - 1s 15us/step - loss: 0.0627 - acc: 0.9801\n",
      "Epoch 63/150\n",
      "60000/60000 [==============================] - 1s 15us/step - loss: 0.0649 - acc: 0.9786\n",
      "Epoch 64/150\n",
      "60000/60000 [==============================] - 1s 14us/step - loss: 0.0592 - acc: 0.9816\n",
      "Epoch 65/150\n",
      "60000/60000 [==============================] - 1s 15us/step - loss: 0.0539 - acc: 0.9835\n",
      "Epoch 66/150\n",
      "60000/60000 [==============================] - 1s 14us/step - loss: 0.0545 - acc: 0.9831\n",
      "Epoch 67/150\n",
      "60000/60000 [==============================] - 1s 14us/step - loss: 0.0500 - acc: 0.9850\n",
      "Epoch 68/150\n",
      "60000/60000 [==============================] - 1s 14us/step - loss: 0.0512 - acc: 0.9846\n",
      "Epoch 69/150\n",
      "60000/60000 [==============================] - 1s 14us/step - loss: 0.0494 - acc: 0.9848\n",
      "Epoch 70/150\n",
      "60000/60000 [==============================] - 1s 14us/step - loss: 0.0499 - acc: 0.9848\n",
      "Epoch 71/150\n",
      "60000/60000 [==============================] - 1s 14us/step - loss: 0.0485 - acc: 0.9854\n",
      "Epoch 72/150\n",
      "60000/60000 [==============================] - 1s 14us/step - loss: 0.0460 - acc: 0.9864\n",
      "Epoch 73/150\n",
      "60000/60000 [==============================] - 1s 14us/step - loss: 0.0441 - acc: 0.9871\n",
      "Epoch 74/150\n",
      "60000/60000 [==============================] - 1s 14us/step - loss: 0.0507 - acc: 0.9842\n",
      "Epoch 75/150\n",
      "60000/60000 [==============================] - 1s 14us/step - loss: 0.0450 - acc: 0.9865\n",
      "Epoch 76/150\n",
      "60000/60000 [==============================] - 1s 14us/step - loss: 0.0407 - acc: 0.9880\n",
      "Epoch 77/150\n",
      "60000/60000 [==============================] - 1s 14us/step - loss: 0.0359 - acc: 0.9906\n",
      "Epoch 78/150\n",
      "60000/60000 [==============================] - 1s 15us/step - loss: 0.0355 - acc: 0.9901\n",
      "Epoch 79/150\n",
      "60000/60000 [==============================] - 1s 15us/step - loss: 0.0371 - acc: 0.9896\n",
      "Epoch 80/150\n",
      "60000/60000 [==============================] - 1s 15us/step - loss: 0.0440 - acc: 0.9861\n",
      "Epoch 81/150\n"
     ]
    },
    {
     "name": "stdout",
     "output_type": "stream",
     "text": [
      "60000/60000 [==============================] - 1s 15us/step - loss: 0.0380 - acc: 0.9886\n",
      "Epoch 82/150\n",
      "60000/60000 [==============================] - 1s 14us/step - loss: 0.0376 - acc: 0.9886\n",
      "Epoch 83/150\n",
      "60000/60000 [==============================] - 1s 14us/step - loss: 0.0357 - acc: 0.9894\n",
      "Epoch 84/150\n",
      "60000/60000 [==============================] - 1s 14us/step - loss: 0.0324 - acc: 0.9918\n",
      "Epoch 85/150\n",
      "60000/60000 [==============================] - 1s 14us/step - loss: 0.0303 - acc: 0.9918\n",
      "Epoch 86/150\n",
      "60000/60000 [==============================] - 1s 14us/step - loss: 0.0336 - acc: 0.9900\n",
      "Epoch 87/150\n",
      "60000/60000 [==============================] - 1s 14us/step - loss: 0.0294 - acc: 0.9917\n",
      "Epoch 88/150\n",
      "60000/60000 [==============================] - 1s 14us/step - loss: 0.0269 - acc: 0.9933\n",
      "Epoch 89/150\n",
      "60000/60000 [==============================] - 1s 14us/step - loss: 0.0271 - acc: 0.9926\n",
      "Epoch 90/150\n",
      "60000/60000 [==============================] - 1s 14us/step - loss: 0.0264 - acc: 0.9934\n",
      "Epoch 91/150\n",
      "60000/60000 [==============================] - 1s 14us/step - loss: 0.0263 - acc: 0.9936\n",
      "Epoch 92/150\n",
      "60000/60000 [==============================] - 1s 14us/step - loss: 0.0262 - acc: 0.9928\n",
      "Epoch 93/150\n",
      "60000/60000 [==============================] - 1s 14us/step - loss: 0.0258 - acc: 0.9933\n",
      "Epoch 94/150\n",
      "60000/60000 [==============================] - 1s 14us/step - loss: 0.0257 - acc: 0.9928\n",
      "Epoch 95/150\n",
      "60000/60000 [==============================] - 1s 14us/step - loss: 0.0230 - acc: 0.9944\n",
      "Epoch 96/150\n",
      "60000/60000 [==============================] - 1s 14us/step - loss: 0.0247 - acc: 0.9932\n",
      "Epoch 97/150\n",
      "60000/60000 [==============================] - 1s 15us/step - loss: 0.0207 - acc: 0.9954\n",
      "Epoch 98/150\n",
      "60000/60000 [==============================] - 1s 15us/step - loss: 0.0191 - acc: 0.9958\n",
      "Epoch 99/150\n",
      "60000/60000 [==============================] - 1s 15us/step - loss: 0.0199 - acc: 0.9954\n",
      "Epoch 100/150\n",
      "60000/60000 [==============================] - 1s 15us/step - loss: 0.0206 - acc: 0.9952\n",
      "Epoch 101/150\n",
      "60000/60000 [==============================] - 1s 14us/step - loss: 0.0174 - acc: 0.9964\n",
      "Epoch 102/150\n",
      "60000/60000 [==============================] - 1s 15us/step - loss: 0.0184 - acc: 0.9958\n",
      "Epoch 103/150\n",
      "60000/60000 [==============================] - 1s 15us/step - loss: 0.0248 - acc: 0.9928\n",
      "Epoch 104/150\n",
      "60000/60000 [==============================] - 1s 15us/step - loss: 0.0230 - acc: 0.9939\n",
      "Epoch 105/150\n",
      "60000/60000 [==============================] - 1s 15us/step - loss: 0.0195 - acc: 0.9949\n",
      "Epoch 106/150\n",
      "60000/60000 [==============================] - 1s 15us/step - loss: 0.0207 - acc: 0.9946\n",
      "Epoch 107/150\n",
      "60000/60000 [==============================] - 1s 15us/step - loss: 0.0262 - acc: 0.9921\n",
      "Epoch 108/150\n",
      "60000/60000 [==============================] - 1s 14us/step - loss: 0.0223 - acc: 0.9940\n",
      "Epoch 109/150\n",
      "60000/60000 [==============================] - 1s 14us/step - loss: 0.0209 - acc: 0.9945\n",
      "Epoch 110/150\n",
      "60000/60000 [==============================] - 1s 14us/step - loss: 0.0189 - acc: 0.9953\n",
      "Epoch 111/150\n",
      "60000/60000 [==============================] - 1s 14us/step - loss: 0.0148 - acc: 0.9969\n",
      "Epoch 112/150\n",
      "60000/60000 [==============================] - 1s 14us/step - loss: 0.0140 - acc: 0.9971\n",
      "Epoch 113/150\n",
      "60000/60000 [==============================] - 1s 14us/step - loss: 0.0131 - acc: 0.9975\n",
      "Epoch 114/150\n",
      "60000/60000 [==============================] - 1s 14us/step - loss: 0.0129 - acc: 0.9973\n",
      "Epoch 115/150\n",
      "60000/60000 [==============================] - 1s 14us/step - loss: 0.0137 - acc: 0.9972\n",
      "Epoch 116/150\n",
      "60000/60000 [==============================] - 1s 14us/step - loss: 0.0133 - acc: 0.9972\n",
      "Epoch 117/150\n",
      "60000/60000 [==============================] - 1s 14us/step - loss: 0.0213 - acc: 0.9940\n",
      "Epoch 118/150\n",
      "60000/60000 [==============================] - 1s 15us/step - loss: 0.0112 - acc: 0.9981\n",
      "Epoch 119/150\n",
      "60000/60000 [==============================] - 1s 15us/step - loss: 0.0170 - acc: 0.9955\n",
      "Epoch 120/150\n",
      "60000/60000 [==============================] - 1s 14us/step - loss: 0.0135 - acc: 0.9972\n",
      "Epoch 121/150\n",
      "60000/60000 [==============================] - 1s 14us/step - loss: 0.0133 - acc: 0.9969\n",
      "Epoch 122/150\n",
      "60000/60000 [==============================] - 1s 14us/step - loss: 0.0118 - acc: 0.9977\n",
      "Epoch 123/150\n",
      "60000/60000 [==============================] - 1s 14us/step - loss: 0.0216 - acc: 0.9931\n",
      "Epoch 124/150\n",
      "60000/60000 [==============================] - 1s 14us/step - loss: 0.0175 - acc: 0.9950\n",
      "Epoch 125/150\n",
      "60000/60000 [==============================] - 1s 14us/step - loss: 0.0111 - acc: 0.9979\n",
      "Epoch 126/150\n",
      "60000/60000 [==============================] - 1s 15us/step - loss: 0.0073 - acc: 0.9994\n",
      "Epoch 127/150\n",
      "60000/60000 [==============================] - 1s 14us/step - loss: 0.0074 - acc: 0.9991\n",
      "Epoch 128/150\n",
      "60000/60000 [==============================] - 1s 14us/step - loss: 0.0142 - acc: 0.9959\n",
      "Epoch 129/150\n",
      "60000/60000 [==============================] - 1s 14us/step - loss: 0.0216 - acc: 0.9930\n",
      "Epoch 130/150\n",
      "60000/60000 [==============================] - 1s 14us/step - loss: 0.0219 - acc: 0.9935\n",
      "Epoch 131/150\n",
      "60000/60000 [==============================] - 1s 15us/step - loss: 0.0284 - acc: 0.9916\n",
      "Epoch 132/150\n",
      "60000/60000 [==============================] - 1s 14us/step - loss: 0.0122 - acc: 0.9973\n",
      "Epoch 133/150\n",
      "60000/60000 [==============================] - 1s 15us/step - loss: 0.0089 - acc: 0.9986\n",
      "Epoch 134/150\n",
      "60000/60000 [==============================] - 1s 14us/step - loss: 0.0099 - acc: 0.9980\n",
      "Epoch 135/150\n",
      "60000/60000 [==============================] - 1s 14us/step - loss: 0.0066 - acc: 0.9993\n",
      "Epoch 136/150\n",
      "60000/60000 [==============================] - 1s 14us/step - loss: 0.0073 - acc: 0.9991\n",
      "Epoch 137/150\n",
      "60000/60000 [==============================] - 1s 14us/step - loss: 0.0052 - acc: 0.9995\n",
      "Epoch 138/150\n",
      "60000/60000 [==============================] - 1s 14us/step - loss: 0.0051 - acc: 0.9995\n",
      "Epoch 139/150\n",
      "60000/60000 [==============================] - 1s 14us/step - loss: 0.0067 - acc: 0.9988\n",
      "Epoch 140/150\n",
      "60000/60000 [==============================] - 1s 14us/step - loss: 0.0074 - acc: 0.9987\n",
      "Epoch 141/150\n",
      "60000/60000 [==============================] - 1s 14us/step - loss: 0.0051 - acc: 0.9995\n",
      "Epoch 142/150\n",
      "60000/60000 [==============================] - 1s 14us/step - loss: 0.0048 - acc: 0.9995\n",
      "Epoch 143/150\n",
      "60000/60000 [==============================] - 1s 14us/step - loss: 0.0078 - acc: 0.9983\n",
      "Epoch 144/150\n",
      "60000/60000 [==============================] - 1s 14us/step - loss: 0.0058 - acc: 0.9993\n",
      "Epoch 145/150\n",
      "60000/60000 [==============================] - 1s 14us/step - loss: 0.0073 - acc: 0.9986\n",
      "Epoch 146/150\n",
      "60000/60000 [==============================] - 1s 14us/step - loss: 0.0077 - acc: 0.9987\n",
      "Epoch 147/150\n",
      "60000/60000 [==============================] - 1s 14us/step - loss: 0.0096 - acc: 0.9980\n",
      "Epoch 148/150\n",
      "60000/60000 [==============================] - 1s 14us/step - loss: 0.0269 - acc: 0.9907\n",
      "Epoch 149/150\n",
      "60000/60000 [==============================] - 1s 14us/step - loss: 0.0350 - acc: 0.9872\n",
      "Epoch 150/150\n",
      "60000/60000 [==============================] - 1s 14us/step - loss: 0.0240 - acc: 0.9913\n"
     ]
    },
    {
     "data": {
      "text/plain": [
       "<tensorflow.python.keras.callbacks.History at 0x7f5a204686a0>"
      ]
     },
     "execution_count": 12,
     "metadata": {},
     "output_type": "execute_result"
    }
   ],
   "source": [
    "batch_size = 1024\n",
    "epochs = 150\n",
    "model.fit(x_train, y_train, epochs=epochs, batch_size=batch_size)"
   ]
  },
  {
   "cell_type": "markdown",
   "metadata": {},
   "source": [
    "## Question 3 (20 points) \n",
    "\n",
    "Evaluate the performance of your network with the test data. \n",
    "Visualize the performance using appropriate metrics and graphs (eg. confusion matrix). \n",
    "Comment on your per class performance and how it could be better."
   ]
  },
  {
   "cell_type": "code",
   "execution_count": 13,
   "metadata": {},
   "outputs": [],
   "source": [
    "# This function is provided for you to display the confusion matrix.\n",
    "# For more information about the confusion matrix, you can read at\n",
    "# https://en.wikipedia.org/wiki/Confusion_matrix\n",
    "def plot_confusion_matrix(cm, classes, normalize=False, title='Confusion matrix', cmap=plt.cm.Blues):\n",
    "    \"\"\"\n",
    "        This function prints and plots the confusion matrix.\n",
    "        \n",
    "        cm: confusion matrix, default to be np.int32 data type\n",
    "        classes: a list of the class labels or class names\n",
    "        normalize: normalize the matrix so that each row amounts to one\n",
    "        cmap: color map\n",
    "    \"\"\"\n",
    "    if normalize:\n",
    "        cm = cm.astype('float') / cm.sum(axis=1)[:, np.newaxis]\n",
    "        print(\"Normalized confusion matrix\")\n",
    "    else:\n",
    "        print('Confusion matrix, without normalization')\n",
    "    print(cm)\n",
    "\n",
    "    plt.imshow(cm, interpolation='nearest', cmap=cmap)\n",
    "    plt.title(title)\n",
    "    plt.colorbar()\n",
    "    tick_marks = np.arange(len(classes))\n",
    "    plt.xticks(tick_marks, classes, rotation=45)\n",
    "    plt.yticks(tick_marks, classes)\n",
    "\n",
    "    fmt = '.2f' if normalize else 'd'\n",
    "    thresh = cm.max() / 2.\n",
    "    for i, j in itertools.product(range(cm.shape[0]), range(cm.shape[1])):\n",
    "        plt.text(j, i, format(cm[i, j], fmt),\n",
    "                 horizontalalignment=\"center\",\n",
    "                 color=\"white\" if cm[i, j] > thresh else \"black\")\n",
    "    plt.ylabel('True label')\n",
    "    plt.xlabel('Predicted label')\n",
    "    plt.tight_layout()"
   ]
  },
  {
   "cell_type": "markdown",
   "metadata": {},
   "source": [
    "### 3.1 Evaluate the classification accuracy on the test set (10 points)"
   ]
  },
  {
   "cell_type": "code",
   "execution_count": 14,
   "metadata": {},
   "outputs": [
    {
     "name": "stdout",
     "output_type": "stream",
     "text": [
      "10000/10000 [==============================] - 0s 21us/step\n"
     ]
    },
    {
     "data": {
      "text/plain": [
       "[0.5475805378601887, 0.8976]"
      ]
     },
     "execution_count": 14,
     "metadata": {},
     "output_type": "execute_result"
    }
   ],
   "source": [
    "model.evaluate(x_test, y_test)"
   ]
  },
  {
   "cell_type": "markdown",
   "metadata": {},
   "source": [
    "### 3.2 Calculate and plot the confusion matrix (10 points)"
   ]
  },
  {
   "cell_type": "code",
   "execution_count": 15,
   "metadata": {},
   "outputs": [
    {
     "name": "stdout",
     "output_type": "stream",
     "text": [
      "Confusion matrix, without normalization\n",
      "[[871   0  14  17   4   1  81   0  12   0]\n",
      " [  3 979   0   9   6   0   2   0   1   0]\n",
      " [ 18   0 822  10  84   1  62   0   3   0]\n",
      " [ 24   4   7 870  50   0  40   0   5   0]\n",
      " [  0   0  69  18 869   0  40   0   4   0]\n",
      " [  0   0   1   1   0 966   0  19   0  13]\n",
      " [127   1  82  17  77   0 690   0   6   0]\n",
      " [  0   0   0   0   0   6   0 976   1  17]\n",
      " [  3   0   4   3   3   2   4   3 978   0]\n",
      " [  0   0   0   0   0   7   1  37   0 955]]\n"
     ]
    },
    {
     "data": {
      "image/png": "[encoded data removed]",
      "text/plain": [
       "<Figure size 432x288 with 2 Axes>"
      ]
     },
     "metadata": {
      "needs_background": "light"
     },
     "output_type": "display_data"
    }
   ],
   "source": [
    "cm = np.zeros(NUM_CLASSES * NUM_CLASSES).reshape((NUM_CLASSES, NUM_CLASSES)).astype(np.int32)\n",
    "predictions = model.predict(x_test)\n",
    "assert len(predictions) == len(y_test) \n",
    "\n",
    "for i in range(len(predictions)):\n",
    "    actual_index = np.argmax(y_test[i])\n",
    "    predicted_index = np.argmax(predictions[i])\n",
    "    cm[actual_index][predicted_index] += 1\n",
    "\n",
    "plot_confusion_matrix(cm, [\n",
    "    \"T-shirt/top\",\n",
    "    \"Trousers\",\n",
    "    \"Pullover\",\n",
    "    \"Dress\",\n",
    "    \"Coat\",\n",
    "    \"Sandal\",\n",
    "    \"Shirt\",\n",
    "    \"Sneaker\",\n",
    "    \"Bag\",\n",
    "    \"Ankle boot\"\n",
    "])"
   ]
  },
  {
   "cell_type": "markdown",
   "metadata": {},
   "source": [
    "## Question 4 (20 points)\n",
    "Take two photos, one of your clothes or shoes that belongs to one of 10 classes, the other that does not belong to any class.\n",
    "\n",
    "Use either Python or other software (Photoshop, Gimp, or any image editer) to convert the photos into grayscale, crop the region of interest and reshape into the size of 28x28.\n",
    "\n",
    "### 4.1 Load and visualise your own images (6 points)\n",
    "\n",
    "#### Visualising trousers"
   ]
  },
  {
   "cell_type": "code",
   "execution_count": 16,
   "metadata": {},
   "outputs": [
    {
     "data": {
      "image/png": "[encoded data removed]",
      "text/plain": [
       "<Figure size 432x288 with 1 Axes>"
      ]
     },
     "metadata": {
      "needs_background": "light"
     },
     "output_type": "display_data"
    }
   ],
   "source": [
    "trousers = cv2.imread('trousers.jpg', 0)\n",
    "plt.imshow(trousers)\n",
    "trousers = trousers / 255.0"
   ]
  },
  {
   "cell_type": "markdown",
   "metadata": {},
   "source": [
    "#### Visualise cat"
   ]
  },
  {
   "cell_type": "code",
   "execution_count": 17,
   "metadata": {},
   "outputs": [
    {
     "data": {
      "image/png": "[encoded data removed]",
      "text/plain": [
       "<Figure size 432x288 with 1 Axes>"
      ]
     },
     "metadata": {
      "needs_background": "light"
     },
     "output_type": "display_data"
    }
   ],
   "source": [
    "  tf.keras.layers.Dense(1000, activation=tf.nn.relu),\n",
    "cat = cv2.imread('cat.jpg', 0)\n",
    "plt.imshow(cat)\n",
    "cat = cat / 255.0"
   ]
  },
  {
   "cell_type": "markdown",
   "metadata": {},
   "source": [
    "### 4.2 Test your network on the two images and show the classification results (10 points)"
   ]
  },
  {
   "cell_type": "code",
   "execution_count": 19,
   "metadata": {},
   "outputs": [
    {
     "name": "stdout",
     "output_type": "stream",
     "text": [
      "[[2.6956484e-10 9.9999988e-01 8.6966797e-14 5.0059694e-09 9.1317141e-08\n",
      "  8.1248984e-21 2.1348817e-15 1.1495620e-23 3.1937846e-12 5.9751241e-23]]\n"
     ]
    }
   ],
   "source": [
    "prediction = model.predict(trousers.reshape((1,784)))\n",
    "print(prediction)"
   ]
  },
  {
   "cell_type": "markdown",
   "metadata": {},
   "source": [
    "### 4.3 Discuss the classification results and provide one method to improve real life performance of the network (4 points)"
   ]
  },
  {
   "cell_type": "code",
   "execution_count": null,
   "metadata": {},
   "outputs": [],
   "source": []
  },
  {
   "cell_type": "markdown",
   "metadata": {},
   "source": [
    "## 5. Survey\n",
    "How long did the coursework take you to solve? "
   ]
  },
  {
   "cell_type": "markdown",
   "metadata": {},
   "source": []
  },
  {
   "cell_type": "code",
   "execution_count": null,
   "metadata": {},
   "outputs": [],
   "source": []
  }
 ],
 "metadata": {
  "kernelspec": {
   "display_name": "Python 3",
   "language": "python",
   "name": "python3"
  },
  "language_info": {
   "codemirror_mode": {
    "name": "ipython",
    "version": 3
   },
   "file_extension": ".py",
   "mimetype": "text/x-python",
   "name": "python",
   "nbconvert_exporter": "python",
   "pygments_lexer": "ipython3",
   "version": "3.6.6"
  }
 },
 "nbformat": 4,
 "nbformat_minor": 2
}
